{
 "cells": [
  {
   "cell_type": "code",
   "execution_count": 9,
   "id": "9918ed36-9347-481d-8231-782d08ed294b",
   "metadata": {},
   "outputs": [],
   "source": [
    "import numpy as np\n",
    "from landlab import RasterModelGrid\n",
    "from landlab.plot.graph import plot_graph # to plot things and check they are happening correctly\n",
    "from landlab.components import PriorityFloodFlowRouter # getting things to make run the flood flow\n",
    "from landlab.components import FlowAccumulator, LateralEroder # for the lateral erosion of the channel"
   ]
  },
  {
   "cell_type": "markdown",
   "id": "35d7c1a5-e3c8-46bf-9a95-f6943a184413",
   "metadata": {},
   "source": [
    "## Lateral Channel Migration"
   ]
  },
  {
   "cell_type": "code",
   "execution_count": 5,
   "id": "fa378abc-21f5-4752-89d6-82ab8b7a775d",
   "metadata": {},
   "outputs": [],
   "source": [
    "np.random.seed(2015)\n",
    "\n",
    "ltl_grid = RasterModelGrid((5, 4), xy_spacing = 10.0) # making grid for the model with 5 rows and 4 columns, each node spaced 10.0 units apart\n",
    "\n",
    "ltl_grid.set_status_at_node_on_edges(right = ltl_grid.BC_NODE_IS_CLOSED,\n",
    "                                     top = ltl_grid.BC_NODE_IS_CLOSED,\n",
    "                                     left = ltl_grid.BC_NODE_IS_CLOSED,\n",
    "                                     bottom = ltl_grid.BC_NODE_IS_CLOSED) # closing all boundary nodes\n",
    "ltl_grid.status_at_node[3] = ltl_grid.BC_NODE_IS_FIXED_VALUE # fixes the first node to be both fixed and closed\n",
    "\n",
    "rand_topo = np.array(\n",
    "    [\n",
    "        [0.00436992, 0.03225985, 0.03107455, 0.00461312],\n",
    "        [0.03771756, 0.02491226, 0.09613959, 0.07792969],\n",
    "        [0.08707156, 0.03080568, 0.01242658, 0.08827382],\n",
    "        [0.04475065, 0.07391732, 0.08221057, 0.02909259],\n",
    "        [0.03499337, 0.09423741, 0.01883171, 0.09967794],\n",
    "    ]\n",
    ").flatten() # making some topography for the grid\n",
    "\n",
    "ltl_grid.at_node[\"topographic__elevation\"] = (ltl_grid.node_y / 10.0 + ltl_grid.node_x / 10.0 + rand_topo) # making the random topo\n",
    "U = 0.001\n",
    "dt = 100"
   ]
  },
  {
   "cell_type": "code",
   "execution_count": 6,
   "id": "ff1390ba-02ed-44a4-affd-5031fe3b7d75",
   "metadata": {},
   "outputs": [],
   "source": [
    "flood_flow = PriorityFloodFlowRouter(ltl_grid, surface = \"topographic__elevation\", flow_metric = 'D8',\n",
    "                                     update_flow_depressions = True, runoff_rate = True, depression_handler = 'fill')\n",
    "flood_flow.run_one_step()\n",
    "lateral = LateralEroder(ltl_grid, latero_mech = 'UC', Kv = 0.001, Kl_ratio = 1.5)\n",
    "ltl_grid, dz_lat = lateral.run_one_step(dt)"
   ]
  },
  {
   "cell_type": "code",
   "execution_count": 7,
   "id": "7999e67d-0d8e-4655-be89-b14a6388583f",
   "metadata": {},
   "outputs": [],
   "source": [
    "flood_flow = PriorityFloodFlowRouter(ltl_grid, surface = \"topographic__elevation\", flow_metric = 'D8',\n",
    "                                     update_flow_depressions = True, runoff_rate = True, depression_handler = 'fill')\n",
    "\n",
    "lateral = LateralEroder(ltl_grid, latero_mech = 'UC', Kv = 0.001, Kl_ratio = 1.5)\n",
    "\n",
    "for i in range(0,10):\n",
    "    flood_flow.run_one_step()\n",
    "    ltl_grid, dz_lat = lateral.run_one_step(dt)"
   ]
  },
  {
   "cell_type": "code",
   "execution_count": 8,
   "id": "07eb8ef3-a941-409b-a644-37f3ecaa1578",
   "metadata": {},
   "outputs": [
    {
     "data": {
      "image/png": "[encoded data removed]",
      "text/plain": [
       "<Figure size 640x480 with 2 Axes>"
      ]
     },
     "metadata": {},
     "output_type": "display_data"
    }
   ],
   "source": [
    "ltl_grid.imshow(\"depression_free_elevation\", plot_name=\"title\", var_name=\"elevation(m)\")"
   ]
  },
  {
   "cell_type": "code",
   "execution_count": 47,
   "id": "802bfb15-930c-4b79-a69f-b209c75edb8f",
   "metadata": {},
   "outputs": [
    {
     "data": {
      "text/plain": [
       "{'at_node:depression_free_elevation',\n",
       " 'at_node:drainage_area',\n",
       " 'at_node:dzdt',\n",
       " 'at_node:flood_status_code',\n",
       " 'at_node:flow__link_to_receiver_node',\n",
       " 'at_node:flow__receiver_node',\n",
       " 'at_node:flow__receiver_proportions',\n",
       " 'at_node:flow__upstream_node_order',\n",
       " 'at_node:lateral_erosion__depth_increment',\n",
       " 'at_node:qs',\n",
       " 'at_node:sediment__flux',\n",
       " 'at_node:sediment__influx',\n",
       " 'at_node:squared_length_adjacent',\n",
       " 'at_node:surface_water__discharge',\n",
       " 'at_node:topographic__elevation',\n",
       " 'at_node:topographic__steepest_slope',\n",
       " 'at_node:volume__lateral_erosion',\n",
       " 'at_node:water__unit_flux_in'}"
      ]
     },
     "execution_count": 47,
     "metadata": {},
     "output_type": "execute_result"
    }
   ],
   "source": [
    "ltl_grid.fields()"
   ]
  },
  {
   "cell_type": "code",
   "execution_count": null,
   "id": "4368beae-f7d9-4464-9dcd-a7e3aecbb3ae",
   "metadata": {},
   "outputs": [],
   "source": []
  }
 ],
 "metadata": {
  "kernelspec": {
   "display_name": "Ivy",
   "language": "python",
   "name": "ivy"
  },
  "language_info": {
   "codemirror_mode": {
    "name": "ipython",
    "version": 3
   },
   "file_extension": ".py",
   "mimetype": "text/x-python",
   "name": "python",
   "nbconvert_exporter": "python",
   "pygments_lexer": "ipython3",
   "version": "3.13.3"
  }
 },
 "nbformat": 4,
 "nbformat_minor": 5
}
