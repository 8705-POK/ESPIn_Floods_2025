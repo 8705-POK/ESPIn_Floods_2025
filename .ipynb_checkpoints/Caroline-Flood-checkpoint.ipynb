{
 "cells": [
  {
   "cell_type": "markdown",
   "id": "3800d9d9-c063-497b-b9ff-d39e23dc28ba",
   "metadata": {},
   "source": [
    "# Flood Ideas for ESPIn"
   ]
  },
  {
   "cell_type": "markdown",
   "id": "e7c36aee-977e-466e-82ef-334ca470ea32",
   "metadata": {},
   "source": [
    " - show a flood in a stream\n",
    "   "
   ]
  },
  {
   "cell_type": "markdown",
   "id": "e43dcad2-465a-4a0d-a23f-86c6351d5665",
   "metadata": {},
   "source": [
    " - precipitation\n",
    " - river stage increase?\n",
    " - sediment transport\n",
    " - create new channels\n",
    "   \n",
    "   "
   ]
  },
  {
   "cell_type": "code",
   "execution_count": null,
   "id": "2fb60db3-6d85-4d7e-8c5e-3a9bfd175f29",
   "metadata": {},
   "outputs": [],
   "source": []
  }
 ],
 "metadata": {
  "kernelspec": {
   "display_name": "Ivy",
   "language": "python",
   "name": "ivy"
  },
  "language_info": {
   "codemirror_mode": {
    "name": "ipython",
    "version": 3
   },
   "file_extension": ".py",
   "mimetype": "text/x-python",
   "name": "python",
   "nbconvert_exporter": "python",
   "pygments_lexer": "ipython3",
   "version": "3.13.3"
  }
 },
 "nbformat": 4,
 "nbformat_minor": 5
}
