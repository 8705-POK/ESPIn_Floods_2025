{
 "cells": [
  {
   "cell_type": "markdown",
   "id": "76f111f5-3f2b-41d5-984e-6760a46a267c",
   "metadata": {},
   "source": [
    "# Flood Information"
   ]
  },
  {
   "cell_type": "markdown",
   "id": "71e55bb8-8c3d-4316-9027-f93fd7baeb06",
   "metadata": {},
   "source": [
    "### What do we need? "
   ]
  },
  {
   "cell_type": "markdown",
   "id": "16853c24-c0b4-4fe2-9699-fd08e6c15ed6",
   "metadata": {},
   "source": [
    "- Topographical Data\n",
    "    - DEM: elevation data for terrain to understand how water will flow\n",
    "    - River channel geometry: cross-sections, bank height, slope - influences erosion and flow velocities\n",
    "    - Man-made structures: levees, bridges, culverts, dams\n",
    "    - River cross-sections and bathymetry: inportnat for bedload transport\n",
    "- Meteorological Data\n",
    "    - Rainfall data: historical and corecasted rainfall intesnity, duration, and distribution - needed for runoff and erosion modeling\n",
    "    - Snowmelt (if applicable): temperature and snowpack data\n",
    "    - Evapotranspiration: useful in long term flood or dought modeling\n",
    "    - Storm frequeny and patterns: to simulate multiple return-period events\n",
    "- Hydrological Data\n",
    "    - River discharge (flow) rates: upstream and downstream\n",
    "    - Soil moisture and infiltration capacity: affects runoff\n",
    "    - Groundwater levels: influences base flow and saturation\n",
    "    - Groundwater surface water interactions: for long-term sedimentation modeling (optional)\n",
    "    - Watershed characteristics: size, shape, and drainage network\n",
    "- Hydraulic Properties\n",
    "    - Channel roughness: Affects velocity and shear stress\n",
    "    - Bank stability: resistane to erosion\n",
    "    - Floodplain features: vegetation, side channels, ponds\n",
    "- Land Use & Surface Data\n",
    "    - Land cover type: forests, urban areas, agriculture (affects runoff)\n",
    "    - Soil erodibility: K-factor from USLE (universal soil loss equation)\n",
    "    - Impervious surfaces: roads, buildings that prevent infiltration\n",
    "    - Vegetation cover: slows down runoff\n",
    "- Model Parameters & Assumptions\n",
    "    - Initial conditions: river levels, soil moisture before event, initial bed elevation (starting profile of riverbed)\n",
    "    - Boundary contitions: inflows/ outflows a tthe edges of the model area\n",
    "    - Calibration and validation data: past flood events to tune and verify the model\n",
    "    - Sediment transort equations: emperical or process-based\n",
    "    - Erosion/deposition rules: threshold shear stress critial velocity\n",
    "    - Boundary sediment conditionsL upstream and downstream limits\n",
    "- Sediment Data\n",
    "    - Sediment supply\n",
    "        - Upstream sediment load: measured or estimated at boundaries\n",
    "        - Lateral sediment sources: bank erosion, gullies, land-use runoff\n",
    "    - Sediment characteristics\n",
    "        - Grain size distribution (silt/clay/gravel)\n",
    "        - D50, D90: representative sediment size\n",
    "        - Bulk density and settling velocity\n",
    "        - Cohesion: importnat for mdoeling fine sediments (clay)"
   ]
  },
  {
   "cell_type": "markdown",
   "id": "930b0815-45d5-4ea9-a1aa-7b1f333faa84",
   "metadata": {},
   "source": [
    "### Optional but useful:"
   ]
  },
  {
   "cell_type": "markdown",
   "id": "6d9b6320-8b96-4774-9f9c-edc71a338207",
   "metadata": {},
   "source": [
    "- Climate change scenarios: to assess future flood risks\n",
    "- Historial flood maps or satellite imagery: for validation\n",
    "- Real-time sensor data: for forcasting or live modeling"
   ]
  },
  {
   "cell_type": "code",
   "execution_count": null,
   "id": "841d37fb-c1e3-4945-9924-99184d6ec387",
   "metadata": {},
   "outputs": [],
   "source": []
  }
 ],
 "metadata": {
  "kernelspec": {
   "display_name": "CSDMS",
   "language": "python",
   "name": "csdms"
  },
  "language_info": {
   "codemirror_mode": {
    "name": "ipython",
    "version": 3
   },
   "file_extension": ".py",
   "mimetype": "text/x-python",
   "name": "python",
   "nbconvert_exporter": "python",
   "pygments_lexer": "ipython3",
   "version": "3.12.7"
  }
 },
 "nbformat": 4,
 "nbformat_minor": 5
}
