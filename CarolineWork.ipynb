{
 "cells": [
  {
   "cell_type": "markdown",
   "id": "76f111f5-3f2b-41d5-984e-6760a46a267c",
   "metadata": {},
   "source": [
    "# Flood Information"
   ]
  },
  {
   "cell_type": "markdown",
   "id": "71e55bb8-8c3d-4316-9027-f93fd7baeb06",
   "metadata": {},
   "source": [
    "### What we might need to think about:"
   ]
  },
  {
   "cell_type": "markdown",
   "id": "16853c24-c0b4-4fe2-9699-fd08e6c15ed6",
   "metadata": {},
   "source": [
    "- Topographical Data\n",
    "    - DEM: elevation data for terrain to understand how water will flow\n",
    "    - River channel geometry: cross-sections, bank height, slope - influences erosion and flow velocities\n",
    "    - Man-made structures: levees, bridges, culverts, dams\n",
    "    - River cross-sections and bathymetry: inportnat for bedload transport\n",
    "- Meteorological Data\n",
    "    - Rainfall data: historical and corecasted rainfall intesnity, duration, and distribution - needed for runoff and erosion modeling\n",
    "    - Snowmelt (if applicable): temperature and snowpack data\n",
    "    - Evapotranspiration: useful in long term flood or dought modeling\n",
    "    - Storm frequeny and patterns: to simulate multiple return-period events\n",
    "- Hydrological Data\n",
    "    - River discharge (flow) rates: upstream and downstream\n",
    "    - Soil moisture and infiltration capacity: affects runoff\n",
    "    - Groundwater levels: influences base flow and saturation\n",
    "    - Groundwater surface water interactions: for long-term sedimentation modeling (optional)\n",
    "    - Watershed characteristics: size, shape, and drainage network\n",
    "- Hydraulic Properties\n",
    "    - Channel roughness: Affects velocity and shear stress\n",
    "    - Bank stability: resistane to erosion\n",
    "    - Floodplain features: vegetation, side channels, ponds\n",
    "- Land Use & Surface Data\n",
    "    - Land cover type: forests, urban areas, agriculture (affects runoff)\n",
    "    - Soil erodibility: K-factor from USLE (universal soil loss equation)\n",
    "    - Impervious surfaces: roads, buildings that prevent infiltration\n",
    "    - Vegetation cover: slows down runoff\n",
    "- Model Parameters & Assumptions\n",
    "    - Initial conditions: river levels, soil moisture before event, initial bed elevation (starting profile of riverbed)\n",
    "    - Boundary contitions: inflows/ outflows a tthe edges of the model area\n",
    "    - Calibration and validation data: past flood events to tune and verify the model\n",
    "    - Sediment transort equations: emperical or process-based\n",
    "    - Erosion/deposition rules: threshold shear stress critial velocity\n",
    "    - Boundary sediment conditionsL upstream and downstream limits\n",
    "- Sediment Data\n",
    "    - Sediment supply\n",
    "        - Upstream sediment load: measured or estimated at boundaries\n",
    "        - Lateral sediment sources: bank erosion, gullies, land-use runoff\n",
    "    - Sediment characteristics\n",
    "        - Grain size distribution (silt/clay/gravel)\n",
    "        - D50, D90: representative sediment size\n",
    "        - Bulk density and settling velocity\n",
    "        - Cohesion: importnat for mdoeling fine sediments (clay)"
   ]
  },
  {
   "cell_type": "markdown",
   "id": "930b0815-45d5-4ea9-a1aa-7b1f333faa84",
   "metadata": {},
   "source": [
    "### Optional but useful:"
   ]
  },
  {
   "cell_type": "markdown",
   "id": "6d9b6320-8b96-4774-9f9c-edc71a338207",
   "metadata": {},
   "source": [
    "- Climate change scenarios: to assess future flood risks\n",
    "- Historial flood maps or satellite imagery: for validation\n",
    "- Real-time sensor data: for forcasting or live modeling"
   ]
  },
  {
   "cell_type": "markdown",
   "id": "ba29ce41-2285-41f1-aaba-4a719d4a26de",
   "metadata": {},
   "source": [
    "### Components that might be helpful from landlab:"
   ]
  },
  {
   "cell_type": "markdown",
   "id": "e01a8ddd-571f-493c-9bec-93d2d3a08b94",
   "metadata": {},
   "source": [
    "- Sediment\n",
    "    - NetworkSedimentTransporter\n",
    "    - SedDepEroder\n",
    "- Erosion\n",
    "    - DepthSlopeProductErosion\n",
    "    - FastscapeEroder\n",
    "    - LateralEroder\n",
    "    - GravelBedrockEroder\n",
    "    - StreamPowerEroder\n",
    "- Flow\n",
    "    - FlowAccumulator\n",
    "    - KinwaveImplicitOverlandFlow\n",
    "    - KinwaveOverlandFlowModel\n",
    "    - LinearDiffusionOverlandFlowRouter\n",
    "- Pecipitation\n",
    "    - PrecipitationDistribution\n",
    "- Discharge\n",
    "    - DimensionlessDischarge\n",
    "    - DischargeDiffuser\n",
    "    - LinearDiffuser\n",
    "    - LinearDiffusionOverlandFlowRouter"
   ]
  },
  {
   "cell_type": "markdown",
   "id": "b246e94d-af92-4133-969d-f83a66c5953d",
   "metadata": {},
   "source": [
    "### MAYBE things that each of us can focus on, can deff add things and change things: "
   ]
  },
  {
   "cell_type": "markdown",
   "id": "580715b9-20d4-45a5-a8a3-859eddb00f80",
   "metadata": {},
   "source": [
    "1. Someone focus on water flow and increase with precitation\n",
    "2. Someone focus on sediment movement with increase discharge and changes in sediment size\n",
    "3. Someone focus on differences in vegetation in watershed/banks and see how that will change how flooding will work (less infiltration of water on slopes due to less veg, more sediment movement due to no roots keeping the sediment stable)\n",
    "4. Someone focus on sacrificing all first borns to make sure we do well\n",
    "5. Someone focus on moral of team\n",
    "6. Someone focus on man made infrastructure (like dams) and change dam release to see if it can help manage flooding or not\n",
    "7. Someone focus on changing bedforms due to increase/ decrease water levels: moving rippels/ dunes, creating new channels?"
   ]
  },
  {
   "cell_type": "code",
   "execution_count": null,
   "id": "22c0ae62-c0df-4c01-a751-12e36ef8a47a",
   "metadata": {},
   "outputs": [],
   "source": []
  }
 ],
 "metadata": {
  "kernelspec": {
   "display_name": "CSDMS",
   "language": "python",
   "name": "csdms"
  },
  "language_info": {
   "codemirror_mode": {
    "name": "ipython",
    "version": 3
   },
   "file_extension": ".py",
   "mimetype": "text/x-python",
   "name": "python",
   "nbconvert_exporter": "python",
   "pygments_lexer": "ipython3",
   "version": "3.12.7"
  }
 },
 "nbformat": 4,
 "nbformat_minor": 5
}
